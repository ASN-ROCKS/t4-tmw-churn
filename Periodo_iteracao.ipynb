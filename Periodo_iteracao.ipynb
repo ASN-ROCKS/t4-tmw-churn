{
 "cells": [
  {
   "cell_type": "code",
   "execution_count": 0,
   "metadata": {
    "application/vnd.databricks.v1+cell": {
     "cellMetadata": {
      "byteLimit": 2048000,
      "rowLimit": 10000
     },
     "inputWidgets": {},
     "nuid": "d5ff1408-15fc-4d2a-8937-cd80f128c381",
     "showTitle": false,
     "tableResultSettingsMap": {},
     "title": ""
    }
   },
   "outputs": [],
   "source": [
    "SELECT \n",
    "  idCliente,\n",
    "  date_format(to_timestamp(dtCriacao, 'yyyy-MM-dd''T''HH:mm:ss.SSSXXX'), 'EEEE') AS dia_da_semana,\n",
    "  COUNT(*) AS total,\n",
    "  ROUND(COUNT(*) * 100.0 / SUM(COUNT(*)) OVER (PARTITION BY idCliente), 2) AS percentual\n",
    "FROM silver.points.transacoes\n",
    "WHERE to_date(to_timestamp(dtCriacao, 'yyyy-MM-dd''T''HH:mm:ss.SSSXXX')) <= date_sub(current_date(), 28)\n",
    "GROUP BY idCliente, dia_da_semana\n",
    "ORDER BY idCliente, percentual DESC;"
   ]
  },
  {
   "cell_type": "code",
   "execution_count": 0,
   "metadata": {
    "application/vnd.databricks.v1+cell": {
     "cellMetadata": {
      "byteLimit": 2048000,
      "rowLimit": 10000
     },
     "inputWidgets": {},
     "nuid": "3410a1db-e164-4a67-b857-3a302da4d37c",
     "showTitle": false,
     "tableResultSettingsMap": {},
     "title": ""
    }
   },
   "outputs": [],
   "source": [
    "SELECT \n",
    "  idCliente,\n",
    "  CASE \n",
    "    WHEN hour(to_timestamp(dtCriacao, 'yyyy-MM-dd''T''HH:mm:ss.SSSXXX')) BETWEEN 6 AND 11 THEN 'Manhã'\n",
    "    WHEN hour(to_timestamp(dtCriacao, 'yyyy-MM-dd''T''HH:mm:ss.SSSXXX')) BETWEEN 12 AND 17 THEN 'Tarde'\n",
    "    WHEN hour(to_timestamp(dtCriacao, 'yyyy-MM-dd''T''HH:mm:ss.SSSXXX')) BETWEEN 18 AND 23 THEN 'Noite'\n",
    "    ELSE 'Madrugada'\n",
    "  END AS periodo_dia,\n",
    "  COUNT(*) AS total,\n",
    "  ROUND(COUNT(*) * 100.0 / SUM(COUNT(*)) OVER (PARTITION BY idCliente), 2) AS percentual\n",
    "FROM silver.points.transacoes\n",
    "WHERE to_date(to_timestamp(dtCriacao, 'yyyy-MM-dd''T''HH:mm:ss.SSSXXX')) <= date_sub(current_date(), 28)\n",
    "GROUP BY idCliente, periodo_dia\n",
    "ORDER BY idCliente, percentual DESC;"
   ]
  }
 ],
 "metadata": {
  "application/vnd.databricks.v1+notebook": {
   "computePreferences": null,
   "dashboards": [],
   "environmentMetadata": {
    "base_environment": "",
    "environment_version": "2"
   },
   "inputWidgetPreferences": null,
   "language": "sql",
   "notebookMetadata": {
    "mostRecentlyExecutedCommandWithImplicitDF": {
     "commandId": 7371764738816761,
     "dataframes": [
      "_sqldf"
     ]
    },
    "pythonIndentUnit": 4
   },
   "notebookName": "Periodo_iteracao",
   "widgets": {}
  },
  "language_info": {
   "name": "sql"
  }
 },
 "nbformat": 4,
 "nbformat_minor": 0
}
