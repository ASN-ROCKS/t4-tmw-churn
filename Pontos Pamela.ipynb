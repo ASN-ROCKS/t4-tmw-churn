{
 "cells": [
  {
   "cell_type": "markdown",
   "metadata": {
    "application/vnd.databricks.v1+cell": {
     "cellMetadata": {},
     "inputWidgets": {},
     "nuid": "b252f440-908d-4f98-937f-eec48369f9e1",
     "showTitle": false,
     "tableResultSettingsMap": {},
     "title": ""
    }
   },
   "source": [
    "#Idade na base"
   ]
  },
  {
   "cell_type": "code",
   "execution_count": 0,
   "metadata": {
    "application/vnd.databricks.v1+cell": {
     "cellMetadata": {
      "byteLimit": 2048000,
      "implicitDf": true,
      "rowLimit": 10000
     },
     "inputWidgets": {},
     "nuid": "4ab7ea0e-4202-418e-a582-93d4d26837e7",
     "showTitle": false,
     "tableResultSettingsMap": {},
     "title": ""
    }
   },
   "outputs": [],
   "source": [
    "%sql\n",
    "SELECT *   FROM silver.points.transacoes\n",
    "WHERE idCliente = \"f4e13662-c29f-4143-b2fa-d195f20f041d\""
   ]
  },
  {
   "cell_type": "code",
   "execution_count": 0,
   "metadata": {
    "application/vnd.databricks.v1+cell": {
     "cellMetadata": {
      "byteLimit": 2048000,
      "implicitDf": true,
      "rowLimit": 10000
     },
     "inputWidgets": {},
     "nuid": "8c9343e6-601f-4b4d-a032-b9e67d139644",
     "showTitle": false,
     "tableResultSettingsMap": {},
     "title": ""
    }
   },
   "outputs": [],
   "source": [
    "%sql\n",
    "SELECT \n",
    "    idCliente,\n",
    "    min(dtCriacao) AS dtCriacao_min,\n",
    "    count(*),\n",
    "    datediff(date(\"2024-07-01\"), date(dtCriacao_min)) AS qtd_idade_em_dias\n",
    "FROM silver.points.transacoes\n",
    "WHERE dtCriacao < \"2024-07-01\"\n",
    "GROUP BY idCliente\n"
   ]
  },
  {
   "cell_type": "code",
   "execution_count": 0,
   "metadata": {
    "application/vnd.databricks.v1+cell": {
     "cellMetadata": {
      "byteLimit": 2048000,
      "implicitDf": true,
      "rowLimit": 10000
     },
     "inputWidgets": {},
     "nuid": "2cf19a40-da19-4d7d-950e-e36bbffb6478",
     "showTitle": false,
     "tableResultSettingsMap": {},
     "title": ""
    }
   },
   "outputs": [],
   "source": [
    "%sql\n",
    "\n",
    "WITH tb_clientes_base AS (\n",
    "    SELECT \n",
    "        idCliente,\n",
    "        min(dtCriacao) AS dtCriacao_min\n",
    "    FROM silver.points.transacoes\n",
    "    WHERE dtCriacao < \"2024-07-01\"\n",
    "    GROUP BY idCliente\n",
    ")\n",
    "\n",
    "SELECT \n",
    "    \"2024-07-01\" AS dtSafra,\n",
    "    idCliente,\n",
    "    datediff(date(\"2024-07-01\"), date(dtCriacao_min)) AS qtd_idade_em_dias\n",
    "FROM tb_clientes_base"
   ]
  },
  {
   "cell_type": "code",
   "execution_count": 0,
   "metadata": {
    "application/vnd.databricks.v1+cell": {
     "cellMetadata": {
      "byteLimit": 2048000,
      "implicitDf": true,
      "rowLimit": 10000
     },
     "inputWidgets": {},
     "nuid": "a6b0a80f-b271-4b43-85eb-c773dfdb6e71",
     "showTitle": false,
     "tableResultSettingsMap": {},
     "title": ""
    }
   },
   "outputs": [],
   "source": [
    "%sql\n",
    "\n",
    "WITH tb_clientes_base AS (\n",
    "    SELECT \n",
    "        idCliente,\n",
    "        min(dtCriacao) AS dtCriacao_min\n",
    "    FROM silver.points.transacoes\n",
    "    WHERE dtCriacao < '{date}'\n",
    "    GROUP BY idCliente\n",
    ")\n",
    "\n",
    "SELECT \n",
    "    '{date}' AS dtSafra,\n",
    "    idCliente,\n",
    "    datediff(date('{date}'), date(dtCriacao_min)) AS qtd_idade_em_dias\n",
    "FROM tb_clientes_base"
   ]
  }
 ],
 "metadata": {
  "application/vnd.databricks.v1+notebook": {
   "computePreferences": null,
   "dashboards": [],
   "environmentMetadata": {
    "base_environment": "",
    "environment_version": "2"
   },
   "inputWidgetPreferences": null,
   "language": "python",
   "notebookMetadata": {
    "mostRecentlyExecutedCommandWithImplicitDF": {
     "commandId": 6837214905314434,
     "dataframes": [
      "_sqldf"
     ]
    },
    "pythonIndentUnit": 4
   },
   "notebookName": "Pontos Pamela",
   "widgets": {}
  },
  "language_info": {
   "name": "python"
  }
 },
 "nbformat": 4,
 "nbformat_minor": 0
}
