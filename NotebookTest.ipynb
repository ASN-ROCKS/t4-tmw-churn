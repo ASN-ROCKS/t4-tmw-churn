{
 "cells": [
  {
   "cell_type": "markdown",
   "metadata": {
    "application/vnd.databricks.v1+cell": {
     "cellMetadata": {},
     "inputWidgets": {},
     "nuid": "b252f440-908d-4f98-937f-eec48369f9e1",
     "showTitle": false,
     "tableResultSettingsMap": {},
     "title": ""
    }
   },
   "source": [
    "#Idade na base"
   ]
  },
  {
   "cell_type": "code",
   "execution_count": 0,
   "metadata": {
    "application/vnd.databricks.v1+cell": {
     "cellMetadata": {
      "byteLimit": 2048000,
      "implicitDf": true,
      "rowLimit": 10000
     },
     "inputWidgets": {},
     "nuid": "4ab7ea0e-4202-418e-a582-93d4d26837e7",
     "showTitle": false,
     "tableResultSettingsMap": {},
     "title": ""
    }
   },
   "outputs": [],
   "source": [
    "%sql\n",
    "SELECT *   FROM silver.points.transacoes\n",
    "WHERE idCliente = \"f4e13662-c29f-4143-b2fa-d195f20f041d\""
   ]
  },
  {
   "cell_type": "code",
   "execution_count": 0,
   "metadata": {
    "application/vnd.databricks.v1+cell": {
     "cellMetadata": {
      "byteLimit": 2048000,
      "implicitDf": true,
      "rowLimit": 10000
     },
     "inputWidgets": {},
     "nuid": "c94f1da9-31a7-4188-a01b-9514de446548",
     "showTitle": false,
     "tableResultSettingsMap": {},
     "title": ""
    }
   },
   "outputs": [],
   "source": [
    "%sql\n",
    "SELECT *   FROM silver.points.transacao_produto\n",
    "WHERE idTransacao = \"06ba6d0e-aae9-4b7c-a6a6-43e3156b411d\""
   ]
  },
  {
   "cell_type": "code",
   "execution_count": 0,
   "metadata": {
    "application/vnd.databricks.v1+cell": {
     "cellMetadata": {
      "byteLimit": 2048000,
      "implicitDf": true,
      "rowLimit": 10000
     },
     "inputWidgets": {},
     "nuid": "e4c540da-d590-4081-a5c4-0da993188528",
     "showTitle": false,
     "tableResultSettingsMap": {},
     "title": ""
    }
   },
   "outputs": [],
   "source": [
    "%sql\n",
    "SELECT *   FROM silver.points.produtos\n",
    "--WHERE idTransacao = \"06ba6d0e-aae9-4b7c-a6a6-43e3156b411d\""
   ]
  },
  {
   "cell_type": "code",
   "execution_count": 0,
   "metadata": {
    "application/vnd.databricks.v1+cell": {
     "cellMetadata": {
      "byteLimit": 2048000,
      "implicitDf": true,
      "rowLimit": 10000
     },
     "inputWidgets": {},
     "nuid": "951816a8-d42d-4710-9f7d-276addcc13f4",
     "showTitle": false,
     "tableResultSettingsMap": {},
     "title": ""
    }
   },
   "outputs": [],
   "source": [
    "%sql\n",
    "with tb_transacoes_produto AS (\n",
    "\n",
    "    SELECT t1.idCliente,\n",
    "          t1.dtCriacao,\n",
    "          t1.idTransacao,\n",
    "          t2.idTransacaoProduto,\n",
    "          t2.idProduto,\n",
    "          t3.descNomeProduto\n",
    "\n",
    "    FROM silver.points.transacoes AS t1\n",
    "\n",
    "    LEFT JOIN silver.points.transacao_produto AS t2\n",
    "    ON t1.idTransacao = t2.idTransacao\n",
    "\n",
    "    LEFT JOIN silver.points.produtos AS t3\n",
    "    ON t2.idProduto = t3.idProduto\n",
    "\n",
    "    WHERE t1.dtCriacao < date('2024-06-01')\n",
    ")\n",
    "\n",
    "SELECT idCliente, \n",
    "    count(*) AS qtd_transacoes,\n",
    "    COUNT(DISTINCT CASE WHEN descNomeProduto = 'ChatMessage' THEN idTransacaoProduto END) / count(distinct idTransacaoProduto) AS pctidTransacaoProdutoChatMessage,\n",
    "    COUNT(DISTINCT CASE WHEN descNomeProduto = 'Lista de presença' THEN idTransacaoProduto END) / count(distinct idTransacaoProduto) AS pctidTransacaoProdutoListaPresenca,\n",
    "    COUNT(DISTINCT CASE WHEN descNomeProduto = 'Resgatar Ponei' THEN idTransacaoProduto END) / count(distinct idTransacaoProduto) AS pctidTransacaoProdutoResgatarPonei,\n",
    "    COUNT(DISTINCT CASE WHEN descNomeProduto = 'Presença Streak' THEN idTransacaoProduto END) / count(distinct idTransacaoProduto) AS pctidTransacaoProdutoPresencaStreak,\n",
    "    COUNT(DISTINCT CASE WHEN descNomeProduto = 'Troca de Pontos StreamElements' THEN idTransacaoProduto END) / count(distinct idTransacaoProduto) AS pctidTransacaoProdutoTrocaPontosStreamElements\n",
    "FROM tb_transacoes_produto\n",
    "GROUP BY idCliente\n",
    "\n",
    "\n",
    "\n",
    "\n"
   ]
  },
  {
   "cell_type": "code",
   "execution_count": 0,
   "metadata": {
    "application/vnd.databricks.v1+cell": {
     "cellMetadata": {},
     "inputWidgets": {},
     "nuid": "95f95b7f-d343-4c65-b9e4-3c51326bcb74",
     "showTitle": false,
     "tableResultSettingsMap": {},
     "title": ""
    }
   },
   "outputs": [],
   "source": [
    "%sql\n",
    "SELECT idCliente, \n",
    "    count(*) AS qtd_transacoes,\n",
    "    COUNT(DISTINCT CASE WHEN descNomeProduto = 'ChatMessage' THEN idTransacaoProduto END) / count(distinct idTransacaoProduto) AS pctidTransacaoProdutoChatMessage,\n",
    "    COUNT(DISTINCT CASE WHEN descNomeProduto = 'Lista de presença' THEN idTransacaoProduto END) / count(distinct idTransacaoProduto) AS pctidTransacaoProdutoListaPresenca,\n",
    "    COUNT(DISTINCT CASE WHEN descNomeProduto = 'Resgatar Ponei' THEN idTransacaoProduto END) / count(distinct idTransacaoProduto) AS pctidTransacaoProdutoResgatarPonei,\n",
    "    COUNT(DISTINCT CASE WHEN descNomeProduto = 'Presença Streak' THEN idTransacaoProduto END) / count(distinct idTransacaoProduto) AS pctidTransacaoProdutoPresencaStreak,\n",
    "    COUNT(DISTINCT CASE WHEN descNomeProduto = 'Troca de Pontos StreamElements' THEN idTransacaoProduto END) / count(distinct idTransacaoProduto) AS pctidTransacaoProdutoTrocaPontosStreamElements\n",
    "FROM tb_transacoes_produto\n",
    "GROUP BY idCliente"
   ]
  },
  {
   "cell_type": "code",
   "execution_count": 0,
   "metadata": {
    "application/vnd.databricks.v1+cell": {
     "cellMetadata": {},
     "inputWidgets": {},
     "nuid": "0c4ce5d1-db3a-4170-a021-537844a6e1be",
     "showTitle": false,
     "tableResultSettingsMap": {},
     "title": ""
    }
   },
   "outputs": [],
   "source": [
    "%sql\n",
    "SELECT *   FROM silver.points.transacoes\n",
    "WHERE idCliente = \"f4e13662-c29f-4143-b2fa-d195f20f041d\""
   ]
  },
  {
   "cell_type": "code",
   "execution_count": 0,
   "metadata": {
    "application/vnd.databricks.v1+cell": {
     "cellMetadata": {
      "byteLimit": 2048000,
      "implicitDf": true,
      "rowLimit": 10000
     },
     "inputWidgets": {},
     "nuid": "8c9343e6-601f-4b4d-a032-b9e67d139644",
     "showTitle": false,
     "tableResultSettingsMap": {},
     "title": ""
    }
   },
   "outputs": [],
   "source": [
    "%sql\n",
    "SELECT \n",
    "    idCliente,\n",
    "    min(dtCriacao) AS dtCriacao_min,\n",
    "    count(*),\n",
    "    datediff(date(\"2024-07-01\"), date(dtCriacao_min)) AS qtd_idade_em_dias\n",
    "FROM silver.points.transacoes\n",
    "WHERE dtCriacao < \"2024-07-01\"\n",
    "GROUP BY idCliente\n"
   ]
  },
  {
   "cell_type": "code",
   "execution_count": 0,
   "metadata": {
    "application/vnd.databricks.v1+cell": {
     "cellMetadata": {
      "byteLimit": 2048000,
      "implicitDf": true,
      "rowLimit": 10000
     },
     "inputWidgets": {},
     "nuid": "2cf19a40-da19-4d7d-950e-e36bbffb6478",
     "showTitle": false,
     "tableResultSettingsMap": {},
     "title": ""
    }
   },
   "outputs": [],
   "source": [
    "%sql\n",
    "\n",
    "WITH tb_clientes_base AS (\n",
    "    SELECT \n",
    "        idCliente,\n",
    "        min(dtCriacao) AS dtCriacao_min,\n",
    "        count(*) AS qtd_transacoes\n",
    "    FROM silver.points.transacoes\n",
    "    WHERE dtCriacao < \"2024-07-01\"\n",
    "    GROUP BY idCliente\n",
    ")\n",
    "\n",
    "SELECT \n",
    "    \"2024-07-01\" AS dtSafra,\n",
    "    idCliente,\n",
    "    datediff(date(\"2024-07-01\"), date(dtCriacao_min)) AS qtd_idade_em_dias,\n",
    "    qtd_transacoes\n",
    "FROM tb_clientes_base"
   ]
  },
  {
   "cell_type": "code",
   "execution_count": 0,
   "metadata": {
    "application/vnd.databricks.v1+cell": {
     "cellMetadata": {
      "byteLimit": 2048000,
      "implicitDf": true,
      "rowLimit": 10000
     },
     "inputWidgets": {},
     "nuid": "a6b0a80f-b271-4b43-85eb-c773dfdb6e71",
     "showTitle": false,
     "tableResultSettingsMap": {},
     "title": ""
    }
   },
   "outputs": [],
   "source": [
    "%sql\n",
    "\n",
    "WITH tb_clientes_base AS (\n",
    "    SELECT \n",
    "        idCliente,\n",
    "        min(dtCriacao) AS dtCriacao_min,\n",
    "        count(*) AS qtd_transacoes\n",
    "    FROM silver.points.transacoes\n",
    "    WHERE dtCriacao < '{date}'\n",
    "    GROUP BY idCliente\n",
    ")\n",
    "\n",
    "SELECT \n",
    "    '{date}' AS dtSafra,\n",
    "    idCliente,\n",
    "    datediff(date('{date}'), date(dtCriacao_min)) AS qtd_idade_em_dias,\n",
    "    qtd_transacoes\n",
    "FROM tb_clientes_base"
   ]
  }
 ],
 "metadata": {
  "application/vnd.databricks.v1+notebook": {
   "computePreferences": null,
   "dashboards": [],
   "environmentMetadata": {
    "base_environment": "",
    "environment_version": "2"
   },
   "inputWidgetPreferences": null,
   "language": "python",
   "notebookMetadata": {
    "mostRecentlyExecutedCommandWithImplicitDF": {
     "commandId": 6718299478692647,
     "dataframes": [
      "_sqldf"
     ]
    },
    "pythonIndentUnit": 4
   },
   "notebookName": "NotebookTest",
   "widgets": {}
  },
  "language_info": {
   "name": "python"
  }
 },
 "nbformat": 4,
 "nbformat_minor": 0
}
